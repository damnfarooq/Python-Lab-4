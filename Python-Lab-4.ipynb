{
 "cells": [
  {
   "cell_type": "markdown",
   "metadata": {},
   "source": [
    "# <h1 align='center' >Computer Application in Engineering Design Lab</h1>\n",
    "<h2 align='center' >Lab 11, BCE Fall 2021</h2>\n",
    "<h3 align='left' >Instructor: Muhammad Farooq Khan</h3>\n",
    "<h4>Date: 13-Dec-2021</h4>"
   ]
  },
  {
   "cell_type": "markdown",
   "metadata": {},
   "source": [
    "### Classes "
   ]
  },
  {
   "cell_type": "code",
   "execution_count": 1,
   "metadata": {},
   "outputs": [
    {
     "name": "stdout",
     "output_type": "stream",
     "text": [
      "Anand\n",
      "Lin\n"
     ]
    }
   ],
   "source": [
    "#we could have created a dictionary instead of class\n",
    "pid4343 = {\"last name\": \"Taleb\"}\n",
    "pid4344 = {\"last name\": \"Anand\"}\n",
    "pid4345 = {\"last name\": \"Oppenheimer\"}\n",
    "pid4346 = {\"last name\": \"Lin\"}\n",
    "pid12902 = {\"last name\": \"Nilsson\"}\n",
    "\n",
    "#classes\n",
    "\n",
    "class Patient():\n",
    "    def __init__(self, last_name):   #keyword self\n",
    "        self.last_name = last_name   #can write self.whatever\n",
    "\n",
    "#instances for each patient\n",
    "pid4344 = Patient(\"Anand\")    \n",
    "pid4345 = Patient(\"Oppenheimer\")\n",
    "pid4346 = Patient(\"Lin\")\n",
    "pid12902 = Patient(\"Nilsson\")\n",
    "print(pid4344.last_name)\n",
    "print(pid4346.last_name)\n",
    "\n",
    "\n",
    "\n"
   ]
  },
  {
   "cell_type": "code",
   "execution_count": 2,
   "metadata": {},
   "outputs": [
    {
     "data": {
      "text/plain": [
       "61"
      ]
     },
     "execution_count": 2,
     "metadata": {},
     "output_type": "execute_result"
    }
   ],
   "source": [
    "class Patient():\n",
    "    def __init__(self, last_name, first_name, age):\n",
    "        self.last_name = last_name\n",
    "        self.first_name = first_name\n",
    "        self.age = age\n",
    "pid4343 = Patient(\"Taleb\", \"Sue\", 61)\n",
    "pid4344 = Patient(\"Anand\", \"Punya\", 29)\n",
    "pid4345 = Patient(\"Oppenheimer\", \"Douglas\", 15)\n",
    "pid4346 = Patient(\"Lin\", \"Lilly\", 48)\n",
    "pid12902 = Patient(\"Nilsson\", \"Rhonda\", 33)\n",
    "age_of_patient = pid4343.age\n",
    "age_of_patient\n"
   ]
  },
  {
   "cell_type": "code",
   "execution_count": 3,
   "metadata": {},
   "outputs": [
    {
     "name": "stdout",
     "output_type": "stream",
     "text": [
      "Douglas Oppenheimer is a minor\n"
     ]
    }
   ],
   "source": [
    "def say_if_minor(patient_first_name,patient_last_name, patient_age):  #freestanding function\n",
    "    if patient_age < 21:\n",
    "        print(patient_first_name + \" \" + patient_last_name + \" is a minor\")\n",
    "\n",
    "\n",
    "\n",
    "say_if_minor(pid4345.first_name, pid4345.last_name,pid4345.age)"
   ]
  },
  {
   "cell_type": "code",
   "execution_count": 4,
   "metadata": {},
   "outputs": [
    {
     "name": "stdout",
     "output_type": "stream",
     "text": [
      "61\n",
      "Douglas Oppenheimer is a minor\n"
     ]
    }
   ],
   "source": [
    "class Patient():\n",
    "    def __init__(self, last_name, first_name, age):\n",
    "        self.last_name = last_name\n",
    "        self.first_name = first_name\n",
    "        self.age = age\n",
    "    def say_if_minor(self):\n",
    "        if self.age < 21:\n",
    "            print(self.first_name + \" \" + self.last_name + \" is a minor\")\n",
    "\n",
    "        \n",
    "pid4343 = Patient(\"Taleb\", \"Sue\", 61)\n",
    "pid4344 = Patient(\"Anand\", \"Punya\", 29)\n",
    "pid4345 = Patient(\"Oppenheimer\", \"Douglas\", 15)\n",
    "pid4346 = Patient(\"Lin\", \"Lilly\", 48)\n",
    "pid12902 = Patient(\"Nilsson\", \"Rhonda\", 33)\n",
    "age_of_patient = pid4343.age\n",
    "print(age_of_patient)\n",
    "pid4345.say_if_minor()\n",
    "#pid4343.say_if_minor(\"April\", insured=True) #can pass additional arguments too\n",
    "\n"
   ]
  },
  {
   "cell_type": "code",
   "execution_count": 5,
   "metadata": {},
   "outputs": [],
   "source": [
    "#Changing an attribute's value\n",
    "pid4343.last_name = \"Ortega\""
   ]
  },
  {
   "cell_type": "code",
   "execution_count": 6,
   "metadata": {},
   "outputs": [
    {
     "data": {
      "text/plain": [
       "'Ortega'"
      ]
     },
     "execution_count": 6,
     "metadata": {},
     "output_type": "execute_result"
    }
   ],
   "source": [
    "pid4343.last_name"
   ]
  },
  {
   "cell_type": "code",
   "execution_count": 7,
   "metadata": {},
   "outputs": [
    {
     "name": "stdout",
     "output_type": "stream",
     "text": [
      "61\n",
      "Douglas Oppenheimer is a minor\n",
      "khan\n"
     ]
    }
   ],
   "source": [
    "class Patient():\n",
    "    def __init__(self, last_name, first_name, age):\n",
    "        self.last_name = last_name\n",
    "        self.first_name = first_name\n",
    "        self.age = age\n",
    "    def say_if_minor(self):\n",
    "        if self.age < 21:\n",
    "            print(self.first_name + \" \" + self.last_name + \" is a minor\")\n",
    "    def change_last_name(self, new_last_name):\n",
    "        self.last_name = new_last_name\n",
    "        \n",
    "pid4343 = Patient(\"Taleb\", \"Sue\", 61)\n",
    "pid4344 = Patient(\"Anand\", \"Punya\", 29)\n",
    "pid4345 = Patient(\"Oppenheimer\", \"Douglas\", 15)\n",
    "pid4346 = Patient(\"Lin\", \"Lilly\", 48)\n",
    "pid12902 = Patient(\"Nilsson\", \"Rhonda\", 33)\n",
    "age_of_patient = pid4343.age\n",
    "print(age_of_patient)\n",
    "pid4345.say_if_minor()\n",
    "pid4345.change_last_name(\"khan\")\n",
    "#pid4343.say_if_minor(\"April\", insured=True) #can pass additional arguments too\n",
    "print(pid4345.last_name)"
   ]
  },
  {
   "cell_type": "markdown",
   "metadata": {},
   "source": [
    "### Data files "
   ]
  },
  {
   "cell_type": "code",
   "execution_count": 8,
   "metadata": {},
   "outputs": [],
   "source": [
    "with open(\"test.txt\",\"w\") as f:\n",
    "   f.write(\"my first file\\n\")\n",
    "   f.write(\"This file\\n\\n\")\n",
    "   f.write(\"contains three lines\\n\") \n",
    "#the data that you write to the file overwrites any data that the file already contains."
   ]
  },
  {
   "cell_type": "code",
   "execution_count": 9,
   "metadata": {},
   "outputs": [
    {
     "name": "stdout",
     "output_type": "stream",
     "text": [
      "my first file\n",
      "This file\n",
      "\n",
      "contains three lines\n",
      "\n"
     ]
    }
   ],
   "source": [
    "with open(\"test.txt\", \"r\") as f:   #default is read mode\n",
    "    text_of_file = f.read()\n",
    "print(text_of_file)\n"
   ]
  },
  {
   "cell_type": "code",
   "execution_count": 10,
   "metadata": {},
   "outputs": [
    {
     "name": "stdout",
     "output_type": "stream",
     "text": [
      "my first file\n",
      "This file\n",
      "\n",
      "contains three lines\n",
      "\n",
      "Have a nice day!\n"
     ]
    }
   ],
   "source": [
    "#To append data to a file while preserving existing data in the file\n",
    "with open(\"test.txt\", \"a\") as f:\n",
    "    f.write(\"\\nHave a nice day!\")\n",
    "with open(\"test.txt\", \"r\") as f:   #default is read mode\n",
    "    text_of_file = f.read()\n",
    "print(text_of_file)\n"
   ]
  },
  {
   "cell_type": "markdown",
   "metadata": {},
   "source": [
    "### Modules"
   ]
  },
  {
   "cell_type": "markdown",
   "metadata": {},
   "source": [
    "What's good about modules:\n",
    "Write a function once, call it from any Python program.\n",
    "Keep your main programs shorter and simpler to read.\n",
    "Use code written by other people by importing their modules."
   ]
  },
  {
   "cell_type": "markdown",
   "metadata": {},
   "source": [
    "It takes just one line in your main program to make all the code in\n",
    "calculations.py available to your main program:"
   ]
  },
  {
   "cell_type": "code",
   "execution_count": 11,
   "metadata": {},
   "outputs": [
    {
     "data": {
      "text/plain": [
       "5.0685"
      ]
     },
     "execution_count": 11,
     "metadata": {},
     "output_type": "execute_result"
    }
   ],
   "source": [
    "import calculations\n",
    "calculations.calc_tax(sales_total=101.37,tax_rate=.05)"
   ]
  },
  {
   "cell_type": "markdown",
   "metadata": {},
   "source": [
    "### CSV Files"
   ]
  },
  {
   "cell_type": "code",
   "execution_count": 12,
   "metadata": {},
   "outputs": [
    {
     "name": "stdout",
     "output_type": "stream",
     "text": [
      "['Year', 'Event', 'Winner', '1995', 'Best-Kept Lawn', 'None', '1999', 'Gobstones', 'Welch National']\n",
      "[['Year' 'Event' 'Winner']\n",
      " ['1995' 'Best-Kept Lawn' 'None']\n",
      " ['1999' 'Gobstones' 'Welch National']]\n"
     ]
    }
   ],
   "source": [
    "#Comma-Separated Values = CSV\n",
    "# CSV files: Picking information out of\n",
    "# them\n",
    "import csv\n",
    "with open(\"prediction.csv\") as f:\n",
    "    contents_of_file = csv.reader(f)\n",
    "    inlist = []\n",
    "    for each_line in contents_of_file:\n",
    "        inlist += each_line\n",
    "print(inlist)\n",
    "import numpy as np\n",
    "print(np.array(inlist).reshape(3,3))    #idea about Numpy, we will see more later"
   ]
  },
  {
   "cell_type": "code",
   "execution_count": 13,
   "metadata": {},
   "outputs": [
    {
     "name": "stdout",
     "output_type": "stream",
     "text": [
      "Best-Kept Lawn\n"
     ]
    }
   ],
   "source": [
    "print(inlist[4])"
   ]
  },
  {
   "cell_type": "code",
   "execution_count": 14,
   "metadata": {},
   "outputs": [
    {
     "name": "stdout",
     "output_type": "stream",
     "text": [
      "4\n"
     ]
    }
   ],
   "source": [
    "index_number_of_target = inlist.index(\"Best-Kept Lawn\")\n",
    "print(index_number_of_target)"
   ]
  },
  {
   "cell_type": "code",
   "execution_count": 15,
   "metadata": {},
   "outputs": [],
   "source": [
    "# Let's say the user wants to know the winner of the Best-Kept Lawn competition.\n",
    "# begin by finding the index number of \"Best-Kept Lawn\" in the list\n",
    "# Then, knowing the winner of that competition is the next element in the list,\n",
    "# we can look it up by specifying an index number that's one more than the index\n",
    "# number of the competition"
   ]
  },
  {
   "cell_type": "code",
   "execution_count": 16,
   "metadata": {},
   "outputs": [
    {
     "name": "stdout",
     "output_type": "stream",
     "text": [
      "Enter the name of a competition:Gobstones\n",
      "The winner was Welch National\n"
     ]
    }
   ],
   "source": [
    "target = input(\"Enter the name of a competition:\")\n",
    "index_number_of_target = inlist.index(target)\n",
    "the_winner = inlist[index_number_of_target + 1]\n",
    "print(\"The winner was \" + the_winner)\n"
   ]
  },
  {
   "cell_type": "code",
   "execution_count": 17,
   "metadata": {},
   "outputs": [],
   "source": [
    "# CSV files: Loading information into them.\n",
    "# For technical reasons, you can't write data directly to the CSV file. You have\n",
    "# to create a special object that handles the data. You begin by creating this\n",
    "# object. Use any legal variable name:\n",
    "\n",
    "with open(\"whatever.csv\", \"w\", newline=\"\") as f:\n",
    "    data_handler = csv.writer(f, delimiter=\",\")   #special object\n",
    "    data_handler.writerow([\"Year\", \"Event\",\"Winner\"])\n",
    "    data_handler.writerow([\"1995\", \"Best-Kept Lawn\",\"None\"])\n",
    "    data_handler.writerow([\"1999\", \"Gobstones\",\"Welch National\"])\n"
   ]
  },
  {
   "cell_type": "code",
   "execution_count": 18,
   "metadata": {},
   "outputs": [],
   "source": [
    "# CSV files: Appending rows to them.\n",
    "with open(\"whatever.csv\", \"a\", newline=\"\") as f:\n",
    "    data_handler = csv.writer(f, delimiter=\",\")\n",
    "    data_handler.writerow([\"2006\", \"World Cup\",\"Burkina Faso\"])\n",
    "    data_handler.writerow([\"2011\", \"Butter Cup\",\"France\"])\n",
    "    data_handler.writerow([\"2012\", \"Coffee Cup\",\"Brazil\"])"
   ]
  },
  {
   "cell_type": "markdown",
   "metadata": {},
   "source": [
    "### JSON"
   ]
  },
  {
   "cell_type": "code",
   "execution_count": 19,
   "metadata": {},
   "outputs": [
    {
     "ename": "TypeError",
     "evalue": "write() argument must be str, not list",
     "output_type": "error",
     "traceback": [
      "\u001b[1;31m---------------------------------------------------------------------------\u001b[0m",
      "\u001b[1;31mTypeError\u001b[0m                                 Traceback (most recent call last)",
      "\u001b[1;32m<ipython-input-19-bdbed7ea1d30>\u001b[0m in \u001b[0;36m<module>\u001b[1;34m\u001b[0m\n\u001b[0;32m      2\u001b[0m \u001b[0malphabet_letters\u001b[0m \u001b[1;33m=\u001b[0m \u001b[1;33m[\u001b[0m\u001b[1;34m\"a\"\u001b[0m\u001b[1;33m,\u001b[0m \u001b[1;34m\"b\"\u001b[0m\u001b[1;33m,\u001b[0m \u001b[1;34m\"c\"\u001b[0m\u001b[1;33m]\u001b[0m\u001b[1;33m\u001b[0m\u001b[1;33m\u001b[0m\u001b[0m\n\u001b[0;32m      3\u001b[0m \u001b[1;32mwith\u001b[0m \u001b[0mopen\u001b[0m\u001b[1;33m(\u001b[0m\u001b[1;34m\"alphabet_list.txt\"\u001b[0m\u001b[1;33m,\u001b[0m \u001b[1;34m\"w\"\u001b[0m\u001b[1;33m)\u001b[0m \u001b[1;32mas\u001b[0m \u001b[0mf\u001b[0m\u001b[1;33m:\u001b[0m\u001b[1;33m\u001b[0m\u001b[1;33m\u001b[0m\u001b[0m\n\u001b[1;32m----> 4\u001b[1;33m     \u001b[0mf\u001b[0m\u001b[1;33m.\u001b[0m\u001b[0mwrite\u001b[0m\u001b[1;33m(\u001b[0m\u001b[0malphabet_letters\u001b[0m\u001b[1;33m)\u001b[0m\u001b[1;33m\u001b[0m\u001b[1;33m\u001b[0m\u001b[0m\n\u001b[0m\u001b[0;32m      5\u001b[0m \u001b[1;31m#will produce error\u001b[0m\u001b[1;33m\u001b[0m\u001b[1;33m\u001b[0m\u001b[1;33m\u001b[0m\u001b[0m\n",
      "\u001b[1;31mTypeError\u001b[0m: write() argument must be str, not list"
     ]
    }
   ],
   "source": [
    "# How to save a Python list or dictionary in a file: JSON\n",
    "alphabet_letters = [\"a\", \"b\", \"c\"]\n",
    "with open(\"alphabet_list.txt\", \"w\") as f:\n",
    "    f.write(alphabet_letters)\n",
    "#will produce error"
   ]
  },
  {
   "cell_type": "code",
   "execution_count": 20,
   "metadata": {},
   "outputs": [
    {
     "name": "stdout",
     "output_type": "stream",
     "text": [
      "['a', 'b', 'c']\n"
     ]
    }
   ],
   "source": [
    "# use JSON JavaScript Object Notation\n",
    "#write\n",
    "import json\n",
    "alphabet_letters = [\"a\", \"b\", \"c\"]\n",
    "with open(\"alphabet_list.json\", \"w\") as f:\n",
    "    json.dump(alphabet_letters, f)\n",
    "\n",
    "#read\n",
    "with open(\"alphabet_list.json\") as f:\n",
    "    alphabets = json.load(f)\n",
    "print(alphabets)"
   ]
  },
  {
   "cell_type": "code",
   "execution_count": 21,
   "metadata": {},
   "outputs": [
    {
     "name": "stdout",
     "output_type": "stream",
     "text": [
      "{'first name': 'David', 'last name': 'Elliott', 'address': '4803 Wellesley St.'}\n"
     ]
    }
   ],
   "source": [
    "#write\n",
    "customer_29876 = {\n",
    "    \"first name\": \"David\",\n",
    "    \"last name\": \"Elliott\",\n",
    "    \"address\": \"4803 Wellesley St.\",\n",
    "}\n",
    "with open(\"customer_29876.json\", \"w\") as f:\n",
    "    json.dump(customer_29876, f)\n",
    "\n",
    "#read\n",
    "with open(\"customer_29876.json\") as f:\n",
    "    customer_29876 = json.load(f)\n",
    "print(customer_29876)"
   ]
  },
  {
   "cell_type": "markdown",
   "metadata": {},
   "source": [
    "### Pandas Basics "
   ]
  },
  {
   "cell_type": "code",
   "execution_count": 22,
   "metadata": {},
   "outputs": [
    {
     "data": {
      "text/html": [
       "<div>\n",
       "<style scoped>\n",
       "    .dataframe tbody tr th:only-of-type {\n",
       "        vertical-align: middle;\n",
       "    }\n",
       "\n",
       "    .dataframe tbody tr th {\n",
       "        vertical-align: top;\n",
       "    }\n",
       "\n",
       "    .dataframe thead th {\n",
       "        text-align: right;\n",
       "    }\n",
       "</style>\n",
       "<table border=\"1\" class=\"dataframe\">\n",
       "  <thead>\n",
       "    <tr style=\"text-align: right;\">\n",
       "      <th></th>\n",
       "      <th>Year</th>\n",
       "      <th>Event</th>\n",
       "      <th>Winner</th>\n",
       "    </tr>\n",
       "  </thead>\n",
       "  <tbody>\n",
       "    <tr>\n",
       "      <th>0</th>\n",
       "      <td>1995</td>\n",
       "      <td>Best-Kept Lawn</td>\n",
       "      <td>None</td>\n",
       "    </tr>\n",
       "    <tr>\n",
       "      <th>1</th>\n",
       "      <td>1999</td>\n",
       "      <td>Gobstones</td>\n",
       "      <td>Welch National</td>\n",
       "    </tr>\n",
       "    <tr>\n",
       "      <th>2</th>\n",
       "      <td>2006</td>\n",
       "      <td>World Cup</td>\n",
       "      <td>Burkina Faso</td>\n",
       "    </tr>\n",
       "    <tr>\n",
       "      <th>3</th>\n",
       "      <td>2011</td>\n",
       "      <td>Butter Cup</td>\n",
       "      <td>France</td>\n",
       "    </tr>\n",
       "    <tr>\n",
       "      <th>4</th>\n",
       "      <td>2012</td>\n",
       "      <td>Coffee Cup</td>\n",
       "      <td>Brazil</td>\n",
       "    </tr>\n",
       "  </tbody>\n",
       "</table>\n",
       "</div>"
      ],
      "text/plain": [
       "   Year           Event          Winner\n",
       "0  1995  Best-Kept Lawn            None\n",
       "1  1999       Gobstones  Welch National\n",
       "2  2006       World Cup    Burkina Faso\n",
       "3  2011      Butter Cup          France\n",
       "4  2012      Coffee Cup          Brazil"
      ]
     },
     "execution_count": 22,
     "metadata": {},
     "output_type": "execute_result"
    }
   ],
   "source": [
    "import pandas as pd\n",
    "df = pd.read_csv(\"whatever.csv\")\n",
    "df"
   ]
  },
  {
   "cell_type": "code",
   "execution_count": 23,
   "metadata": {},
   "outputs": [
    {
     "data": {
      "text/html": [
       "<div>\n",
       "<style scoped>\n",
       "    .dataframe tbody tr th:only-of-type {\n",
       "        vertical-align: middle;\n",
       "    }\n",
       "\n",
       "    .dataframe tbody tr th {\n",
       "        vertical-align: top;\n",
       "    }\n",
       "\n",
       "    .dataframe thead th {\n",
       "        text-align: right;\n",
       "    }\n",
       "</style>\n",
       "<table border=\"1\" class=\"dataframe\">\n",
       "  <thead>\n",
       "    <tr style=\"text-align: right;\">\n",
       "      <th></th>\n",
       "      <th>Unnamed: 0</th>\n",
       "      <th>lcavol</th>\n",
       "      <th>lweight</th>\n",
       "      <th>age</th>\n",
       "      <th>lbph</th>\n",
       "      <th>svi</th>\n",
       "      <th>lcp</th>\n",
       "      <th>gleason</th>\n",
       "      <th>pgg45</th>\n",
       "      <th>lpsa</th>\n",
       "    </tr>\n",
       "  </thead>\n",
       "  <tbody>\n",
       "    <tr>\n",
       "      <th>0</th>\n",
       "      <td>1</td>\n",
       "      <td>-0.579818</td>\n",
       "      <td>2.769459</td>\n",
       "      <td>50</td>\n",
       "      <td>-1.386294</td>\n",
       "      <td>0</td>\n",
       "      <td>-1.386294</td>\n",
       "      <td>6</td>\n",
       "      <td>0</td>\n",
       "      <td>-0.430783</td>\n",
       "    </tr>\n",
       "    <tr>\n",
       "      <th>1</th>\n",
       "      <td>2</td>\n",
       "      <td>-0.994252</td>\n",
       "      <td>3.319626</td>\n",
       "      <td>58</td>\n",
       "      <td>-1.386294</td>\n",
       "      <td>0</td>\n",
       "      <td>-1.386294</td>\n",
       "      <td>6</td>\n",
       "      <td>0</td>\n",
       "      <td>-0.162519</td>\n",
       "    </tr>\n",
       "    <tr>\n",
       "      <th>2</th>\n",
       "      <td>3</td>\n",
       "      <td>-0.510826</td>\n",
       "      <td>2.691243</td>\n",
       "      <td>74</td>\n",
       "      <td>-1.386294</td>\n",
       "      <td>0</td>\n",
       "      <td>-1.386294</td>\n",
       "      <td>7</td>\n",
       "      <td>20</td>\n",
       "      <td>-0.162519</td>\n",
       "    </tr>\n",
       "  </tbody>\n",
       "</table>\n",
       "</div>"
      ],
      "text/plain": [
       "   Unnamed: 0    lcavol   lweight  age      lbph  svi       lcp  gleason  \\\n",
       "0           1 -0.579818  2.769459   50 -1.386294    0 -1.386294        6   \n",
       "1           2 -0.994252  3.319626   58 -1.386294    0 -1.386294        6   \n",
       "2           3 -0.510826  2.691243   74 -1.386294    0 -1.386294        7   \n",
       "\n",
       "   pgg45      lpsa  \n",
       "0      0 -0.430783  \n",
       "1      0 -0.162519  \n",
       "2     20 -0.162519  "
      ]
     },
     "execution_count": 23,
     "metadata": {},
     "output_type": "execute_result"
    }
   ],
   "source": [
    "df = pd.read_csv(\"prostate.csv\")\n",
    "df.head(3)"
   ]
  },
  {
   "cell_type": "code",
   "execution_count": 24,
   "metadata": {},
   "outputs": [
    {
     "name": "stdout",
     "output_type": "stream",
     "text": [
      "(97, 8)\n",
      "(97, 1)\n"
     ]
    }
   ],
   "source": [
    "df = np.array(df) #pandas data frame to numpy\n",
    "x = df [::,1:9]\n",
    "y = df [::,9:10]\n",
    "print(x.shape)\n",
    "print(y.shape)"
   ]
  },
  {
   "cell_type": "code",
   "execution_count": 25,
   "metadata": {},
   "outputs": [
    {
     "name": "stdout",
     "output_type": "stream",
     "text": [
      "[[-5.79818495e-01  2.76945883e+00  5.00000000e+01 -1.38629436e+00\n",
      "   0.00000000e+00 -1.38629436e+00  6.00000000e+00  0.00000000e+00]\n",
      " [-9.94252273e-01  3.31962573e+00  5.80000000e+01 -1.38629436e+00\n",
      "   0.00000000e+00 -1.38629436e+00  6.00000000e+00  0.00000000e+00]\n",
      " [-5.10825624e-01  2.69124308e+00  7.40000000e+01 -1.38629436e+00\n",
      "   0.00000000e+00 -1.38629436e+00  7.00000000e+00  2.00000000e+01]\n",
      " [-1.20397280e+00  3.28278915e+00  5.80000000e+01 -1.38629436e+00\n",
      "   0.00000000e+00 -1.38629436e+00  6.00000000e+00  0.00000000e+00]\n",
      " [ 7.51416089e-01  3.43237300e+00  6.20000000e+01 -1.38629436e+00\n",
      "   0.00000000e+00 -1.38629436e+00  6.00000000e+00  0.00000000e+00]\n",
      " [-1.04982212e+00  3.22882616e+00  5.00000000e+01 -1.38629436e+00\n",
      "   0.00000000e+00 -1.38629436e+00  6.00000000e+00  0.00000000e+00]\n",
      " [ 7.37164066e-01  3.47351804e+00  6.40000000e+01  6.15185639e-01\n",
      "   0.00000000e+00 -1.38629436e+00  6.00000000e+00  0.00000000e+00]\n",
      " [ 6.93147181e-01  3.53950900e+00  5.80000000e+01  1.53686722e+00\n",
      "   0.00000000e+00 -1.38629436e+00  6.00000000e+00  0.00000000e+00]\n",
      " [-7.76528789e-01  3.53950900e+00  4.70000000e+01 -1.38629436e+00\n",
      "   0.00000000e+00 -1.38629436e+00  6.00000000e+00  0.00000000e+00]\n",
      " [ 2.23143551e-01  3.24454357e+00  6.30000000e+01 -1.38629436e+00\n",
      "   0.00000000e+00 -1.38629436e+00  6.00000000e+00  0.00000000e+00]\n",
      " [ 2.54642218e-01  3.60413823e+00  6.50000000e+01 -1.38629436e+00\n",
      "   0.00000000e+00 -1.38629436e+00  6.00000000e+00  0.00000000e+00]\n",
      " [-1.34707365e+00  3.59868119e+00  6.30000000e+01  1.26694760e+00\n",
      "   0.00000000e+00 -1.38629436e+00  6.00000000e+00  0.00000000e+00]\n",
      " [ 1.61342993e+00  3.02286094e+00  6.30000000e+01 -1.38629436e+00\n",
      "   0.00000000e+00 -5.97837001e-01  7.00000000e+00  3.00000000e+01]\n",
      " [ 1.47704872e+00  2.99822915e+00  6.70000000e+01 -1.38629436e+00\n",
      "   0.00000000e+00 -1.38629436e+00  7.00000000e+00  5.00000000e+00]\n",
      " [ 1.20597081e+00  3.44201938e+00  5.70000000e+01 -1.38629436e+00\n",
      "   0.00000000e+00 -4.30782916e-01  7.00000000e+00  5.00000000e+00]\n",
      " [ 1.54115907e+00  3.06105174e+00  6.60000000e+01 -1.38629436e+00\n",
      "   0.00000000e+00 -1.38629436e+00  6.00000000e+00  0.00000000e+00]\n",
      " [-4.15515444e-01  3.51601306e+00  7.00000000e+01  1.24415459e+00\n",
      "   0.00000000e+00 -5.97837001e-01  7.00000000e+00  3.00000000e+01]\n",
      " [ 2.28848617e+00  3.64935870e+00  6.60000000e+01 -1.38629436e+00\n",
      "   0.00000000e+00  3.71563556e-01  6.00000000e+00  0.00000000e+00]\n",
      " [-5.62118918e-01  3.26766599e+00  4.10000000e+01 -1.38629436e+00\n",
      "   0.00000000e+00 -1.38629436e+00  6.00000000e+00  0.00000000e+00]\n",
      " [ 1.82321557e-01  3.82537520e+00  7.00000000e+01  1.65822808e+00\n",
      "   0.00000000e+00 -1.38629436e+00  6.00000000e+00  0.00000000e+00]\n",
      " [ 1.14740245e+00  3.41936469e+00  5.90000000e+01 -1.38629436e+00\n",
      "   0.00000000e+00 -1.38629436e+00  6.00000000e+00  0.00000000e+00]\n",
      " [ 2.05923883e+00  3.50104272e+00  6.00000000e+01  1.47476301e+00\n",
      "   0.00000000e+00  1.34807315e+00  7.00000000e+00  2.00000000e+01]\n",
      " [-5.44727175e-01  3.37587957e+00  5.90000000e+01 -7.98507696e-01\n",
      "   0.00000000e+00 -1.38629436e+00  6.00000000e+00  0.00000000e+00]\n",
      " [ 1.78170913e+00  3.45157359e+00  6.30000000e+01  4.38254931e-01\n",
      "   0.00000000e+00  1.17865500e+00  7.00000000e+00  6.00000000e+01]\n",
      " [ 3.85262401e-01  3.66740042e+00  6.90000000e+01  1.59938758e+00\n",
      "   0.00000000e+00 -1.38629436e+00  6.00000000e+00  0.00000000e+00]\n",
      " [ 1.44691898e+00  3.12456515e+00  6.80000000e+01  3.00104592e-01\n",
      "   0.00000000e+00 -1.38629436e+00  6.00000000e+00  0.00000000e+00]\n",
      " [ 5.12823626e-01  3.71965111e+00  6.50000000e+01 -1.38629436e+00\n",
      "   0.00000000e+00 -7.98507696e-01  7.00000000e+00  7.00000000e+01]\n",
      " [-4.00477567e-01  3.86597907e+00  6.70000000e+01  1.81645208e+00\n",
      "   0.00000000e+00 -1.38629436e+00  7.00000000e+00  2.00000000e+01]\n",
      " [ 1.04027671e+00  3.12895112e+00  6.70000000e+01  2.23143551e-01\n",
      "   0.00000000e+00  4.87901642e-02  7.00000000e+00  8.00000000e+01]\n",
      " [ 2.40964417e+00  3.37587957e+00  6.50000000e+01 -1.38629436e+00\n",
      "   0.00000000e+00  1.61938824e+00  6.00000000e+00  0.00000000e+00]\n",
      " [ 2.85178942e-01  4.09016919e+00  6.50000000e+01  1.96290773e+00\n",
      "   0.00000000e+00 -7.98507696e-01  6.00000000e+00  0.00000000e+00]\n",
      " [ 1.82321557e-01  6.10757953e+00  6.50000000e+01  1.70474809e+00\n",
      "   0.00000000e+00 -1.38629436e+00  6.00000000e+00  0.00000000e+00]\n",
      " [ 1.27536280e+00  3.03735395e+00  7.10000000e+01  1.26694760e+00\n",
      "   0.00000000e+00 -1.38629436e+00  6.00000000e+00  0.00000000e+00]\n",
      " [ 9.95033085e-03  3.26766599e+00  5.40000000e+01 -1.38629436e+00\n",
      "   0.00000000e+00 -1.38629436e+00  6.00000000e+00  0.00000000e+00]\n",
      " [-1.00503359e-02  3.21687382e+00  6.30000000e+01 -1.38629436e+00\n",
      "   0.00000000e+00 -7.98507696e-01  6.00000000e+00  0.00000000e+00]\n",
      " [ 1.30833282e+00  4.11984985e+00  6.40000000e+01  2.17133681e+00\n",
      "   0.00000000e+00 -1.38629436e+00  7.00000000e+00  5.00000000e+00]\n",
      " [ 1.42310833e+00  3.65713076e+00  7.30000000e+01 -5.79818495e-01\n",
      "   0.00000000e+00  1.65822808e+00  8.00000000e+00  1.50000000e+01]\n",
      " [ 4.57424847e-01  2.37490575e+00  6.40000000e+01 -1.38629436e+00\n",
      "   0.00000000e+00 -1.38629436e+00  7.00000000e+00  1.50000000e+01]\n",
      " [ 2.66095859e+00  4.08513562e+00  6.80000000e+01  1.37371558e+00\n",
      "   1.00000000e+00  1.83258146e+00  7.00000000e+00  3.50000000e+01]\n",
      " [ 7.97507196e-01  3.01308091e+00  5.60000000e+01  9.36093359e-01\n",
      "   0.00000000e+00 -1.62518929e-01  7.00000000e+00  5.00000000e+00]\n",
      " [ 6.20576488e-01  3.14199478e+00  6.00000000e+01 -1.38629436e+00\n",
      "   0.00000000e+00 -1.38629436e+00  9.00000000e+00  8.00000000e+01]\n",
      " [ 1.44220199e+00  3.68260984e+00  6.80000000e+01 -1.38629436e+00\n",
      "   0.00000000e+00 -1.38629436e+00  7.00000000e+00  1.00000000e+01]\n",
      " [ 5.82215620e-01  3.86597907e+00  6.20000000e+01  1.71379793e+00\n",
      "   0.00000000e+00 -4.30782916e-01  6.00000000e+00  0.00000000e+00]\n",
      " [ 1.77155676e+00  3.89690937e+00  6.10000000e+01 -1.38629436e+00\n",
      "   0.00000000e+00  8.10930216e-01  7.00000000e+00  6.00000000e+00]\n",
      " [ 1.48613970e+00  3.40949618e+00  6.60000000e+01  1.74919985e+00\n",
      "   0.00000000e+00 -4.30782916e-01  7.00000000e+00  2.00000000e+01]\n",
      " [ 1.66392610e+00  3.39282913e+00  6.10000000e+01  6.15185639e-01\n",
      "   0.00000000e+00 -1.38629436e+00  7.00000000e+00  1.50000000e+01]\n",
      " [ 2.72785283e+00  3.99544461e+00  7.90000000e+01  1.87946505e+00\n",
      "   1.00000000e+00  2.65675691e+00  9.00000000e+00  1.00000000e+02]\n",
      " [ 1.16315081e+00  4.03512520e+00  6.80000000e+01  1.71379793e+00\n",
      "   0.00000000e+00 -4.30782916e-01  7.00000000e+00  4.00000000e+01]\n",
      " [ 1.74571553e+00  3.49802157e+00  4.30000000e+01 -1.38629436e+00\n",
      "   0.00000000e+00 -1.38629436e+00  6.00000000e+00  0.00000000e+00]\n",
      " [ 1.22082992e+00  3.56812325e+00  7.00000000e+01  1.37371558e+00\n",
      "   0.00000000e+00 -7.98507696e-01  6.00000000e+00  0.00000000e+00]\n",
      " [ 1.09192330e+00  3.99360299e+00  6.80000000e+01 -1.38629436e+00\n",
      "   0.00000000e+00 -1.38629436e+00  7.00000000e+00  5.00000000e+01]\n",
      " [ 1.66013103e+00  4.23483088e+00  6.40000000e+01  2.07317193e+00\n",
      "   0.00000000e+00 -1.38629436e+00  6.00000000e+00  0.00000000e+00]\n",
      " [ 5.12823626e-01  3.63363098e+00  6.40000000e+01  1.49290410e+00\n",
      "   0.00000000e+00  4.87901642e-02  7.00000000e+00  7.00000000e+01]\n",
      " [ 2.12704052e+00  4.12147323e+00  6.80000000e+01  1.76644166e+00\n",
      "   0.00000000e+00  1.44691898e+00  7.00000000e+00  4.00000000e+01]\n",
      " [ 3.15359036e+00  3.51601306e+00  5.90000000e+01 -1.38629436e+00\n",
      "   0.00000000e+00 -1.38629436e+00  7.00000000e+00  5.00000000e+00]\n",
      " [ 1.26694760e+00  4.28013233e+00  6.60000000e+01  2.12226154e+00\n",
      "   0.00000000e+00 -1.38629436e+00  7.00000000e+00  1.50000000e+01]\n",
      " [ 9.74559640e-01  2.86505395e+00  4.70000000e+01 -1.38629436e+00\n",
      "   0.00000000e+00  5.00775288e-01  7.00000000e+00  4.00000000e+00]\n",
      " [ 4.63734016e-01  3.76468242e+00  4.90000000e+01  1.42310833e+00\n",
      "   0.00000000e+00 -1.38629436e+00  6.00000000e+00  0.00000000e+00]\n",
      " [ 5.42324291e-01  4.17822605e+00  7.00000000e+01  4.38254931e-01\n",
      "   0.00000000e+00 -1.38629436e+00  7.00000000e+00  2.00000000e+01]\n",
      " [ 1.06125650e+00  3.85121087e+00  6.10000000e+01  1.29472717e+00\n",
      "   0.00000000e+00 -1.38629436e+00  7.00000000e+00  4.00000000e+01]\n",
      " [ 4.57424847e-01  4.52450228e+00  7.30000000e+01  2.32630162e+00\n",
      "   0.00000000e+00 -1.38629436e+00  6.00000000e+00  0.00000000e+00]\n",
      " [ 1.99741771e+00  3.71965111e+00  6.30000000e+01  1.61938824e+00\n",
      "   1.00000000e+00  1.90954250e+00  7.00000000e+00  4.00000000e+01]\n",
      " [ 2.77570885e+00  3.52488885e+00  7.20000000e+01 -1.38629436e+00\n",
      "   0.00000000e+00  1.55814462e+00  9.00000000e+00  9.50000000e+01]\n",
      " [ 2.03470565e+00  3.91701055e+00  6.60000000e+01  2.00821403e+00\n",
      "   1.00000000e+00  2.11021320e+00  7.00000000e+00  6.00000000e+01]\n",
      " [ 2.07317193e+00  3.62300671e+00  6.40000000e+01 -1.38629436e+00\n",
      "   0.00000000e+00 -1.38629436e+00  6.00000000e+00  0.00000000e+00]\n",
      " [ 1.45861502e+00  3.83622129e+00  6.10000000e+01  1.32175584e+00\n",
      "   0.00000000e+00 -4.30782916e-01  7.00000000e+00  2.00000000e+01]\n",
      " [ 2.02287119e+00  3.87846622e+00  6.80000000e+01  1.78339122e+00\n",
      "   0.00000000e+00  1.32175584e+00  7.00000000e+00  7.00000000e+01]\n",
      " [ 2.19833507e+00  4.05091500e+00  7.20000000e+01  2.30757263e+00\n",
      "   0.00000000e+00 -4.30782916e-01  7.00000000e+00  1.00000000e+01]\n",
      " [-4.46287103e-01  4.40854684e+00  6.90000000e+01 -1.38629436e+00\n",
      "   0.00000000e+00 -1.38629436e+00  6.00000000e+00  0.00000000e+00]\n",
      " [ 1.19392247e+00  4.78038320e+00  7.20000000e+01  2.32630162e+00\n",
      "   0.00000000e+00 -7.98507696e-01  7.00000000e+00  5.00000000e+00]\n",
      " [ 1.86408013e+00  3.59319420e+00  6.00000000e+01 -1.38629436e+00\n",
      "   1.00000000e+00  1.32175584e+00  7.00000000e+00  6.00000000e+01]\n",
      " [ 1.16002092e+00  3.34109346e+00  7.70000000e+01  1.74919985e+00\n",
      "   0.00000000e+00 -1.38629436e+00  7.00000000e+00  2.50000000e+01]\n",
      " [ 1.21491274e+00  3.82537520e+00  6.90000000e+01 -1.38629436e+00\n",
      "   1.00000000e+00  2.23143551e-01  7.00000000e+00  2.00000000e+01]\n",
      " [ 1.83896107e+00  3.23671574e+00  6.00000000e+01  4.38254931e-01\n",
      "   1.00000000e+00  1.17865500e+00  9.00000000e+00  9.00000000e+01]\n",
      " [ 2.99922616e+00  3.84908321e+00  6.90000000e+01 -1.38629436e+00\n",
      "   1.00000000e+00  1.90954250e+00  7.00000000e+00  2.00000000e+01]\n",
      " [ 3.14113048e+00  3.26384919e+00  6.80000000e+01 -5.12932944e-02\n",
      "   1.00000000e+00  2.42036813e+00  7.00000000e+00  5.00000000e+01]\n",
      " [ 2.01089500e+00  4.43378857e+00  7.20000000e+01  2.12226154e+00\n",
      "   0.00000000e+00  5.00775288e-01  7.00000000e+00  6.00000000e+01]\n",
      " [ 2.53765722e+00  4.35478390e+00  7.80000000e+01  2.32630162e+00\n",
      "   0.00000000e+00 -1.38629436e+00  7.00000000e+00  1.00000000e+01]\n",
      " [ 2.64830020e+00  3.58212908e+00  6.90000000e+01 -1.38629436e+00\n",
      "   1.00000000e+00  2.58399755e+00  7.00000000e+00  7.00000000e+01]\n",
      " [ 2.77944020e+00  3.82319179e+00  6.30000000e+01 -1.38629436e+00\n",
      "   0.00000000e+00  3.71563556e-01  7.00000000e+00  5.00000000e+01]\n",
      " [ 1.46787435e+00  3.07037582e+00  6.60000000e+01  5.59615788e-01\n",
      "   0.00000000e+00  2.23143551e-01  7.00000000e+00  4.00000000e+01]\n",
      " [ 2.51365606e+00  3.47351804e+00  5.70000000e+01  4.38254931e-01\n",
      "   0.00000000e+00  2.32727771e+00  7.00000000e+00  6.00000000e+01]\n",
      " [ 2.61300665e+00  3.88875438e+00  7.70000000e+01 -5.27632742e-01\n",
      "   1.00000000e+00  5.59615788e-01  7.00000000e+00  3.00000000e+01]\n",
      " [ 2.67759099e+00  3.83837647e+00  6.50000000e+01  1.11514159e+00\n",
      "   0.00000000e+00  1.74919985e+00  9.00000000e+00  7.00000000e+01]\n",
      " [ 1.56234630e+00  3.70990682e+00  6.00000000e+01  1.69561561e+00\n",
      "   0.00000000e+00  8.10930216e-01  7.00000000e+00  3.00000000e+01]\n",
      " [ 3.30284926e+00  3.51898042e+00  6.40000000e+01 -1.38629436e+00\n",
      "   1.00000000e+00  2.32727771e+00  7.00000000e+00  6.00000000e+01]\n",
      " [ 2.02419307e+00  3.73169945e+00  5.80000000e+01  1.63899671e+00\n",
      "   0.00000000e+00 -1.38629436e+00  6.00000000e+00  0.00000000e+00]\n",
      " [ 1.73165555e+00  3.36901848e+00  6.20000000e+01 -1.38629436e+00\n",
      "   1.00000000e+00  3.00104592e-01  7.00000000e+00  3.00000000e+01]\n",
      " [ 2.80759383e+00  4.71805234e+00  6.50000000e+01 -1.38629436e+00\n",
      "   1.00000000e+00  2.46385324e+00  7.00000000e+00  6.00000000e+01]\n",
      " [ 1.56234630e+00  3.69511000e+00  7.60000000e+01  9.36093359e-01\n",
      "   1.00000000e+00  8.10930216e-01  7.00000000e+00  7.50000000e+01]\n",
      " [ 3.24649099e+00  4.10181658e+00  6.80000000e+01 -1.38629436e+00\n",
      "   0.00000000e+00 -1.38629436e+00  6.00000000e+00  0.00000000e+00]\n",
      " [ 2.53290285e+00  3.67756569e+00  6.10000000e+01  1.34807315e+00\n",
      "   1.00000000e+00 -1.38629436e+00  7.00000000e+00  1.50000000e+01]\n",
      " [ 2.83026783e+00  3.87639583e+00  6.80000000e+01 -1.38629436e+00\n",
      "   1.00000000e+00  1.32175584e+00  7.00000000e+00  6.00000000e+01]\n",
      " [ 3.82100361e+00  3.89690937e+00  4.40000000e+01 -1.38629436e+00\n",
      "   1.00000000e+00  2.16905370e+00  7.00000000e+00  4.00000000e+01]\n",
      " [ 2.90744736e+00  3.39618484e+00  5.20000000e+01 -1.38629436e+00\n",
      "   1.00000000e+00  2.46385324e+00  7.00000000e+00  1.00000000e+01]\n",
      " [ 2.88256358e+00  3.77390970e+00  6.80000000e+01  1.55814462e+00\n",
      "   1.00000000e+00  1.55814462e+00  7.00000000e+00  8.00000000e+01]\n",
      " [ 3.47196645e+00  3.97499780e+00  6.80000000e+01  4.38254931e-01\n",
      "   1.00000000e+00  2.90416508e+00  7.00000000e+00  2.00000000e+01]]\n"
     ]
    }
   ],
   "source": [
    "print(x)"
   ]
  },
  {
   "cell_type": "code",
   "execution_count": 26,
   "metadata": {},
   "outputs": [
    {
     "name": "stdout",
     "output_type": "stream",
     "text": [
      "[[-0.43078292]\n",
      " [-0.16251893]\n",
      " [-0.16251893]\n",
      " [-0.16251893]\n",
      " [ 0.37156356]\n",
      " [ 0.76546784]\n",
      " [ 0.76546784]\n",
      " [ 0.85441533]\n",
      " [ 1.04731899]\n",
      " [ 1.04731899]\n",
      " [ 1.2669476 ]\n",
      " [ 1.2669476 ]\n",
      " [ 1.2669476 ]\n",
      " [ 1.34807315]\n",
      " [ 1.39871688]\n",
      " [ 1.44691898]\n",
      " [ 1.47017585]\n",
      " [ 1.4929041 ]\n",
      " [ 1.55814462]\n",
      " [ 1.59938758]\n",
      " [ 1.63899671]\n",
      " [ 1.65822808]\n",
      " [ 1.69561561]\n",
      " [ 1.71379793]\n",
      " [ 1.73165555]\n",
      " [ 1.76644166]\n",
      " [ 1.80005827]\n",
      " [ 1.81645208]\n",
      " [ 1.84845481]\n",
      " [ 1.89461685]\n",
      " [ 1.92424865]\n",
      " [ 2.00821403]\n",
      " [ 2.00821403]\n",
      " [ 2.02154756]\n",
      " [ 2.04769284]\n",
      " [ 2.08567209]\n",
      " [ 2.15755932]\n",
      " [ 2.19165353]\n",
      " [ 2.21375388]\n",
      " [ 2.27726729]\n",
      " [ 2.29757255]\n",
      " [ 2.30757263]\n",
      " [ 2.32727771]\n",
      " [ 2.37490575]\n",
      " [ 2.52172062]\n",
      " [ 2.55334381]\n",
      " [ 2.56878813]\n",
      " [ 2.56878813]\n",
      " [ 2.59151638]\n",
      " [ 2.59151638]\n",
      " [ 2.65675691]\n",
      " [ 2.67759099]\n",
      " [ 2.68444034]\n",
      " [ 2.69124308]\n",
      " [ 2.7047113 ]\n",
      " [ 2.71800053]\n",
      " [ 2.78809291]\n",
      " [ 2.7942279 ]\n",
      " [ 2.8063861 ]\n",
      " [ 2.81241022]\n",
      " [ 2.84199817]\n",
      " [ 2.85359251]\n",
      " [ 2.85359251]\n",
      " [ 2.88200351]\n",
      " [ 2.88200351]\n",
      " [ 2.88759011]\n",
      " [ 2.92046979]\n",
      " [ 2.96269242]\n",
      " [ 2.96269242]\n",
      " [ 2.97297529]\n",
      " [ 3.01308091]\n",
      " [ 3.03735395]\n",
      " [ 3.0563569 ]\n",
      " [ 3.07500545]\n",
      " [ 3.27525616]\n",
      " [ 3.33754735]\n",
      " [ 3.39282913]\n",
      " [ 3.43559881]\n",
      " [ 3.45789273]\n",
      " [ 3.51303686]\n",
      " [ 3.51601306]\n",
      " [ 3.53076259]\n",
      " [ 3.56529839]\n",
      " [ 3.57094016]\n",
      " [ 3.58767695]\n",
      " [ 3.63098548]\n",
      " [ 3.68009095]\n",
      " [ 3.71235181]\n",
      " [ 3.98434367]\n",
      " [ 3.99360299]\n",
      " [ 4.02980604]\n",
      " [ 4.12955082]\n",
      " [ 4.38514676]\n",
      " [ 4.68444337]\n",
      " [ 5.14312448]\n",
      " [ 5.47750903]\n",
      " [ 5.58293224]]\n"
     ]
    }
   ],
   "source": [
    "print(y)"
   ]
  },
  {
   "cell_type": "code",
   "execution_count": 27,
   "metadata": {},
   "outputs": [],
   "source": [
    "import addition"
   ]
  },
  {
   "cell_type": "code",
   "execution_count": null,
   "metadata": {},
   "outputs": [],
   "source": []
  },
  {
   "cell_type": "code",
   "execution_count": 28,
   "metadata": {},
   "outputs": [
    {
     "name": "stdout",
     "output_type": "stream",
     "text": [
      "-1\n"
     ]
    }
   ],
   "source": [
    "addition.subtract(2,3)"
   ]
  },
  {
   "cell_type": "code",
   "execution_count": 29,
   "metadata": {},
   "outputs": [
    {
     "name": "stdout",
     "output_type": "stream",
     "text": [
      "5\n"
     ]
    }
   ],
   "source": [
    "addition.add(2,3)"
   ]
  },
  {
   "cell_type": "code",
   "execution_count": null,
   "metadata": {},
   "outputs": [],
   "source": []
  }
 ],
 "metadata": {
  "kernelspec": {
   "display_name": "Python 3",
   "language": "python",
   "name": "python3"
  },
  "language_info": {
   "codemirror_mode": {
    "name": "ipython",
    "version": 3
   },
   "file_extension": ".py",
   "mimetype": "text/x-python",
   "name": "python",
   "nbconvert_exporter": "python",
   "pygments_lexer": "ipython3",
   "version": "3.7.7"
  }
 },
 "nbformat": 4,
 "nbformat_minor": 4
}
